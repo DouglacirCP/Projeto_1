{
 "cells": [
  {
   "cell_type": "code",
   "execution_count": 15,
   "id": "7e40385e",
   "metadata": {},
   "outputs": [],
   "source": [
    "import duckdb"
   ]
  },
  {
   "cell_type": "code",
   "execution_count": 16,
   "id": "0535b1a4",
   "metadata": {},
   "outputs": [],
   "source": [
    "con=duckdb.connect(database='dados_duckdb.bd', read_only=False)"
   ]
  },
  {
   "cell_type": "code",
   "execution_count": 17,
   "id": "0b0667a0",
   "metadata": {},
   "outputs": [],
   "source": [
    "df=con.execute(\"\"\"\n",
    "            SELECT * FROM(SELECT *, ROW_NUMBER() OVER (PARTITION BY NATBR ORDER BY data_ingestao DESC) AS row_num\n",
    "             FROM bronze_z0019\n",
    "            where data_ingestao >= '2025-01-11')\n",
    "            WHERE row_num = 1 \n",
    "            \"\"\").fetchdf()"
   ]
  },
  {
   "cell_type": "code",
   "execution_count": 18,
   "id": "0cb9c6a6",
   "metadata": {},
   "outputs": [
    {
     "data": {
      "text/html": [
       "<div>\n",
       "<style scoped>\n",
       "    .dataframe tbody tr th:only-of-type {\n",
       "        vertical-align: middle;\n",
       "    }\n",
       "\n",
       "    .dataframe tbody tr th {\n",
       "        vertical-align: top;\n",
       "    }\n",
       "\n",
       "    .dataframe thead th {\n",
       "        text-align: right;\n",
       "    }\n",
       "</style>\n",
       "<table border=\"1\" class=\"dataframe\">\n",
       "  <thead>\n",
       "    <tr style=\"text-align: right;\">\n",
       "      <th></th>\n",
       "      <th>NATBR</th>\n",
       "      <th>MAKTK</th>\n",
       "      <th>WERKS</th>\n",
       "      <th>MAINST</th>\n",
       "      <th>LABST</th>\n",
       "      <th>NOME_ARQUIVO</th>\n",
       "      <th>DATA_INGESTAO</th>\n",
       "      <th>row_num</th>\n",
       "    </tr>\n",
       "  </thead>\n",
       "  <tbody>\n",
       "    <tr>\n",
       "      <th>0</th>\n",
       "      <td>10002</td>\n",
       "      <td>MARTELO</td>\n",
       "      <td>BT50</td>\n",
       "      <td>100</td>\n",
       "      <td>1500</td>\n",
       "      <td>z0019_1.csv</td>\n",
       "      <td>2025-08-11 22:03:01.773730</td>\n",
       "      <td>1</td>\n",
       "    </tr>\n",
       "    <tr>\n",
       "      <th>1</th>\n",
       "      <td>10001</td>\n",
       "      <td>PARAFUSO</td>\n",
       "      <td>BT10</td>\n",
       "      <td>100</td>\n",
       "      <td>100</td>\n",
       "      <td>z0019_1.csv</td>\n",
       "      <td>2025-08-11 22:03:01.773730</td>\n",
       "      <td>1</td>\n",
       "    </tr>\n",
       "    <tr>\n",
       "      <th>2</th>\n",
       "      <td>10004</td>\n",
       "      <td>SERRA</td>\n",
       "      <td>BT50</td>\n",
       "      <td>100</td>\n",
       "      <td>200</td>\n",
       "      <td>z0019_2.csv</td>\n",
       "      <td>2025-08-11 22:03:01.889456</td>\n",
       "      <td>1</td>\n",
       "    </tr>\n",
       "    <tr>\n",
       "      <th>3</th>\n",
       "      <td>10005</td>\n",
       "      <td>MACHADO</td>\n",
       "      <td>BT50</td>\n",
       "      <td>100</td>\n",
       "      <td>100</td>\n",
       "      <td>z0019_2.csv</td>\n",
       "      <td>2025-08-11 22:03:01.889456</td>\n",
       "      <td>1</td>\n",
       "    </tr>\n",
       "    <tr>\n",
       "      <th>4</th>\n",
       "      <td>10003</td>\n",
       "      <td>PREGO</td>\n",
       "      <td>BT10</td>\n",
       "      <td>100</td>\n",
       "      <td>50</td>\n",
       "      <td>z0019_2.csv</td>\n",
       "      <td>2025-08-11 22:03:01.889456</td>\n",
       "      <td>1</td>\n",
       "    </tr>\n",
       "  </tbody>\n",
       "</table>\n",
       "</div>"
      ],
      "text/plain": [
       "   NATBR     MAKTK WERKS MAINST LABST NOME_ARQUIVO              DATA_INGESTAO  \\\n",
       "0  10002   MARTELO  BT50    100  1500  z0019_1.csv 2025-08-11 22:03:01.773730   \n",
       "1  10001  PARAFUSO  BT10    100   100  z0019_1.csv 2025-08-11 22:03:01.773730   \n",
       "2  10004     SERRA  BT50    100   200  z0019_2.csv 2025-08-11 22:03:01.889456   \n",
       "3  10005   MACHADO  BT50    100   100  z0019_2.csv 2025-08-11 22:03:01.889456   \n",
       "4  10003     PREGO  BT10    100    50  z0019_2.csv 2025-08-11 22:03:01.889456   \n",
       "\n",
       "   row_num  \n",
       "0        1  \n",
       "1        1  \n",
       "2        1  \n",
       "3        1  \n",
       "4        1  "
      ]
     },
     "execution_count": 18,
     "metadata": {},
     "output_type": "execute_result"
    }
   ],
   "source": [
    "df.head(100)"
   ]
  },
  {
   "cell_type": "code",
   "execution_count": 19,
   "id": "a8d5ce07",
   "metadata": {},
   "outputs": [
    {
     "data": {
      "text/plain": [
       "Index(['NATBR', 'MAKTK', 'WERKS', 'MAINST', 'LABST', 'NOME_ARQUIVO',\n",
       "       'DATA_INGESTAO', 'row_num'],\n",
       "      dtype='object')"
      ]
     },
     "execution_count": 19,
     "metadata": {},
     "output_type": "execute_result"
    }
   ],
   "source": [
    "df.columns"
   ]
  },
  {
   "cell_type": "code",
   "execution_count": 20,
   "id": "9d92f434",
   "metadata": {},
   "outputs": [],
   "source": [
    "df_final= df.drop(columns=['NOME_ARQUIVO','DATA_INGESTAO','row_num'])\n",
    "df_final=df_final.rename(columns={'NATBR':'id'})\n",
    "df_final=df_final.rename(columns={'MAKTK':'nm_produto'})\n",
    "df_final=df_final.rename(columns={'WERKS':'id_categoria'})\n",
    "df_final=df_final.rename(columns={'MAINST':'id_fornecedor'})\n",
    "df_final=df_final.rename(columns={'LABST':'vl_preco'})"
   ]
  },
  {
   "cell_type": "code",
   "execution_count": 21,
   "id": "e2b8225c",
   "metadata": {},
   "outputs": [
    {
     "data": {
      "text/html": [
       "<div>\n",
       "<style scoped>\n",
       "    .dataframe tbody tr th:only-of-type {\n",
       "        vertical-align: middle;\n",
       "    }\n",
       "\n",
       "    .dataframe tbody tr th {\n",
       "        vertical-align: top;\n",
       "    }\n",
       "\n",
       "    .dataframe thead th {\n",
       "        text-align: right;\n",
       "    }\n",
       "</style>\n",
       "<table border=\"1\" class=\"dataframe\">\n",
       "  <thead>\n",
       "    <tr style=\"text-align: right;\">\n",
       "      <th></th>\n",
       "      <th>id</th>\n",
       "      <th>nm_produto</th>\n",
       "      <th>id_categoria</th>\n",
       "      <th>id_fornecedor</th>\n",
       "      <th>vl_preco</th>\n",
       "    </tr>\n",
       "  </thead>\n",
       "  <tbody>\n",
       "    <tr>\n",
       "      <th>0</th>\n",
       "      <td>10002</td>\n",
       "      <td>MARTELO</td>\n",
       "      <td>BT50</td>\n",
       "      <td>100</td>\n",
       "      <td>1500</td>\n",
       "    </tr>\n",
       "    <tr>\n",
       "      <th>1</th>\n",
       "      <td>10001</td>\n",
       "      <td>PARAFUSO</td>\n",
       "      <td>BT10</td>\n",
       "      <td>100</td>\n",
       "      <td>100</td>\n",
       "    </tr>\n",
       "    <tr>\n",
       "      <th>2</th>\n",
       "      <td>10004</td>\n",
       "      <td>SERRA</td>\n",
       "      <td>BT50</td>\n",
       "      <td>100</td>\n",
       "      <td>200</td>\n",
       "    </tr>\n",
       "    <tr>\n",
       "      <th>3</th>\n",
       "      <td>10005</td>\n",
       "      <td>MACHADO</td>\n",
       "      <td>BT50</td>\n",
       "      <td>100</td>\n",
       "      <td>100</td>\n",
       "    </tr>\n",
       "    <tr>\n",
       "      <th>4</th>\n",
       "      <td>10003</td>\n",
       "      <td>PREGO</td>\n",
       "      <td>BT10</td>\n",
       "      <td>100</td>\n",
       "      <td>50</td>\n",
       "    </tr>\n",
       "  </tbody>\n",
       "</table>\n",
       "</div>"
      ],
      "text/plain": [
       "      id nm_produto id_categoria id_fornecedor vl_preco\n",
       "0  10002    MARTELO         BT50           100     1500\n",
       "1  10001   PARAFUSO         BT10           100      100\n",
       "2  10004      SERRA         BT50           100      200\n",
       "3  10005    MACHADO         BT50           100      100\n",
       "4  10003      PREGO         BT10           100       50"
      ]
     },
     "execution_count": 21,
     "metadata": {},
     "output_type": "execute_result"
    }
   ],
   "source": [
    "df_final.head(100)"
   ]
  },
  {
   "cell_type": "code",
   "execution_count": 22,
   "id": "284b4c20",
   "metadata": {},
   "outputs": [
    {
     "data": {
      "text/plain": [
       "id               object\n",
       "nm_produto       object\n",
       "id_categoria     object\n",
       "id_fornecedor    object\n",
       "vl_preco         object\n",
       "dtype: object"
      ]
     },
     "execution_count": 22,
     "metadata": {},
     "output_type": "execute_result"
    }
   ],
   "source": [
    "df2=df_final\n",
    "df2.dtypes"
   ]
  },
  {
   "cell_type": "code",
   "execution_count": 23,
   "id": "c9254368",
   "metadata": {},
   "outputs": [
    {
     "data": {
      "text/plain": [
       "id                        int32\n",
       "nm_produto       string[python]\n",
       "id_categoria     string[python]\n",
       "id_fornecedor             int32\n",
       "vl_preco                float32\n",
       "dtype: object"
      ]
     },
     "execution_count": 23,
     "metadata": {},
     "output_type": "execute_result"
    }
   ],
   "source": [
    "df2=df2.astype({\n",
    "    'id': 'int32',\n",
    "    'nm_produto': 'string',\n",
    "    'id_categoria': 'string',\n",
    "    'id_fornecedor': 'int32',\n",
    "    'vl_preco': 'float32'\n",
    "})\n",
    "\n",
    "df2.dtypes"
   ]
  },
  {
   "cell_type": "code",
   "execution_count": 24,
   "id": "f6b96c86",
   "metadata": {},
   "outputs": [
    {
     "data": {
      "text/plain": [
       "<duckdb.duckdb.DuckDBPyConnection at 0x254b3e18fb0>"
      ]
     },
     "execution_count": 24,
     "metadata": {},
     "output_type": "execute_result"
    }
   ],
   "source": [
    "con.execute(\"\"\"\n",
    "            CREATE TABLE IF NOT EXISTS produtos(\n",
    "            id BIGINT,\n",
    "            nm_produto TEXT,\n",
    "            id_categoria TEXT,\n",
    "            id_fornecedor BIGINT,\n",
    "            vl_preco FLOAT\n",
    "            )\n",
    "\"\"\" )"
   ]
  },
  {
   "cell_type": "code",
   "execution_count": 25,
   "id": "e8cedf9e",
   "metadata": {},
   "outputs": [
    {
     "data": {
      "text/plain": [
       "<duckdb.duckdb.DuckDBPyConnection at 0x254b3e18fb0>"
      ]
     },
     "execution_count": 25,
     "metadata": {},
     "output_type": "execute_result"
    }
   ],
   "source": [
    "con.execute(\"insert into produtos select * from df2\")"
   ]
  },
  {
   "cell_type": "code",
   "execution_count": 26,
   "id": "d5b36c2e",
   "metadata": {},
   "outputs": [
    {
     "data": {
      "text/html": [
       "<div>\n",
       "<style scoped>\n",
       "    .dataframe tbody tr th:only-of-type {\n",
       "        vertical-align: middle;\n",
       "    }\n",
       "\n",
       "    .dataframe tbody tr th {\n",
       "        vertical-align: top;\n",
       "    }\n",
       "\n",
       "    .dataframe thead th {\n",
       "        text-align: right;\n",
       "    }\n",
       "</style>\n",
       "<table border=\"1\" class=\"dataframe\">\n",
       "  <thead>\n",
       "    <tr style=\"text-align: right;\">\n",
       "      <th></th>\n",
       "      <th>id</th>\n",
       "      <th>nm_produto</th>\n",
       "      <th>id_categoria</th>\n",
       "      <th>id_fornecedor</th>\n",
       "      <th>vl_preco</th>\n",
       "    </tr>\n",
       "  </thead>\n",
       "  <tbody>\n",
       "    <tr>\n",
       "      <th>0</th>\n",
       "      <td>10002</td>\n",
       "      <td>MARTELO</td>\n",
       "      <td>BT50</td>\n",
       "      <td>100</td>\n",
       "      <td>1500.0</td>\n",
       "    </tr>\n",
       "    <tr>\n",
       "      <th>1</th>\n",
       "      <td>10001</td>\n",
       "      <td>PARAFUSO</td>\n",
       "      <td>BT10</td>\n",
       "      <td>100</td>\n",
       "      <td>100.0</td>\n",
       "    </tr>\n",
       "    <tr>\n",
       "      <th>2</th>\n",
       "      <td>10004</td>\n",
       "      <td>SERRA</td>\n",
       "      <td>BT50</td>\n",
       "      <td>100</td>\n",
       "      <td>200.0</td>\n",
       "    </tr>\n",
       "    <tr>\n",
       "      <th>3</th>\n",
       "      <td>10005</td>\n",
       "      <td>MACHADO</td>\n",
       "      <td>BT50</td>\n",
       "      <td>100</td>\n",
       "      <td>100.0</td>\n",
       "    </tr>\n",
       "    <tr>\n",
       "      <th>4</th>\n",
       "      <td>10003</td>\n",
       "      <td>PREGO</td>\n",
       "      <td>BT10</td>\n",
       "      <td>100</td>\n",
       "      <td>50.0</td>\n",
       "    </tr>\n",
       "  </tbody>\n",
       "</table>\n",
       "</div>"
      ],
      "text/plain": [
       "      id nm_produto id_categoria  id_fornecedor  vl_preco\n",
       "0  10002    MARTELO         BT50            100    1500.0\n",
       "1  10001   PARAFUSO         BT10            100     100.0\n",
       "2  10004      SERRA         BT50            100     200.0\n",
       "3  10005    MACHADO         BT50            100     100.0\n",
       "4  10003      PREGO         BT10            100      50.0"
      ]
     },
     "execution_count": 26,
     "metadata": {},
     "output_type": "execute_result"
    }
   ],
   "source": [
    "df_resultado=con.execute(\"SELECT  * FROM produtos\").fetchdf()\n",
    "df_resultado.head(100)"
   ]
  },
  {
   "cell_type": "code",
   "execution_count": 27,
   "id": "995ae9f0",
   "metadata": {},
   "outputs": [],
   "source": [
    "con.close()"
   ]
  }
 ],
 "metadata": {
  "kernelspec": {
   "display_name": "Python 3",
   "language": "python",
   "name": "python3"
  },
  "language_info": {
   "codemirror_mode": {
    "name": "ipython",
    "version": 3
   },
   "file_extension": ".py",
   "mimetype": "text/x-python",
   "name": "python",
   "nbconvert_exporter": "python",
   "pygments_lexer": "ipython3",
   "version": "3.13.5"
  }
 },
 "nbformat": 4,
 "nbformat_minor": 5
}
